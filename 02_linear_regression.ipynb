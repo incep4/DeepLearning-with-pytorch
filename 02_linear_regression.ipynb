{
  "nbformat": 4,
  "nbformat_minor": 0,
  "metadata": {
    "kernelspec": {
      "display_name": "Python 3",
      "language": "python",
      "name": "python3"
    },
    "language_info": {
      "codemirror_mode": {
        "name": "ipython",
        "version": 3
      },
      "file_extension": ".py",
      "mimetype": "text/x-python",
      "name": "python",
      "nbconvert_exporter": "python",
      "pygments_lexer": "ipython3",
      "version": "3.7.3"
    },
    "colab": {
      "name": "02-linear-regression.ipynb",
      "provenance": [],
      "include_colab_link": true
    }
  },
  "cells": [
    {
      "cell_type": "markdown",
      "metadata": {
        "id": "view-in-github",
        "colab_type": "text"
      },
      "source": [
        "<a href=\"https://colab.research.google.com/github/incep4/DeepLearning-with-pytorch/blob/master/02_linear_regression.ipynb\" target=\"_parent\"><img src=\"https://colab.research.google.com/assets/colab-badge.svg\" alt=\"Open In Colab\"/></a>"
      ]
    },
    {
      "cell_type": "markdown",
      "metadata": {
        "id": "jtKZwumtXbUk",
        "colab_type": "text"
      },
      "source": [
        "## Linear Regression with PyTorch\n",
        "\n",
        "#### Part 2 of \"PyTorch: Zero to GANs\"\n",
        "\n",
        "*This post is the second in a series of tutorials on building deep learning models with PyTorch, an open source neural networks library developed and maintained by Facebook. Check out the full series:*\n",
        "\n",
        "1. [PyTorch Basics: Tensors & Gradients](https://jovian.ml/aakashns/01-pytorch-basics)\n",
        "2. [Linear Regression & Gradient Descent](https://jovian.ml/aakashns/02-linear-regression)\n",
        "3. [Image Classfication using Logistic Regression](https://jovian.ml/aakashns/03-logistic-regression) \n",
        "4. [Training Deep Neural Networks on a GPU](https://jovian.ml/aakashns/04-feedforward-nn)\n",
        "5. Coming soon.. (CNNs, RNNs, GANs etc.)\n",
        "\n",
        "\n",
        "<div height=\"315\">\n",
        "<iframe width=\"560\" height=\"315\" src=\"https://www.youtube.com/embed/gERrXAk9h_A\" frameborder=\"0\" allow=\"accelerometer; autoplay; encrypted-media; gyroscope; picture-in-picture\" allowfullscreen></iframe>\n",
        "<div>\n",
        "\n",
        "Continuing where the [previous tutorial](https://jvn.io/aakashns/3143ceb92b4f4cbbb4f30e203580b77b) left off, we'll discuss one of the foundational  algorithms of machine learning in this post: *Linear regression*. We'll create a model that predicts crop yields for apples and oranges (*target variables*) by looking at the average temperature, rainfall and humidity (*input variables or features*) in a region. Here's the training data:\n",
        "\n",
        "![linear-regression-training-data](https://i.imgur.com/6Ujttb4.png)\n",
        "\n",
        "In a linear regression model, each target variable is estimated to be a weighted sum of the input variables, offset by some constant, known as a bias :\n",
        "\n",
        "```\n",
        "yield_apple  = w11 * temp + w12 * rainfall + w13 * humidity + b1\n",
        "yield_orange = w21 * temp + w22 * rainfall + w23 * humidity + b2\n",
        "```\n",
        "\n",
        "Visually, it means that the yield of apples is a linear or planar function of temperature, rainfall and humidity:\n",
        "\n",
        "![linear-regression-graph](https://i.imgur.com/4DJ9f8X.png)\n",
        "\n",
        "The *learning* part of linear regression is to figure out a set of weights `w11, w12,... w23, b1 & b2` by looking at the training data, to make accurate predictions for new data (i.e. to predict the yields for apples and oranges in a new region using the average temperature, rainfall and humidity). This is done by adjusting the weights slightly many times to make better predictions, using an optimization technique called *gradient descent*."
      ]
    },
    {
      "cell_type": "markdown",
      "metadata": {
        "id": "22YZD7MaXbUp",
        "colab_type": "text"
      },
      "source": [
        "## System setup\n",
        "\n",
        "If you want to follow along and run the code as you read, you can clone this notebook, install the required dependencies, and start Jupyter by running the following commands on the terminal:\n",
        "\n",
        "```bash\n",
        "pip install jovian --upgrade    # Install the jovian library \n",
        "jovian clone <notebook_id>      # Download notebook & dependencies\n",
        "cd 02-linear-regression         # Enter the created directory \n",
        "jovian install                  # Install the dependencies\n",
        "conda activate 02-linear-regression # Activate virtual environment\n",
        "jupyter notebook                # Start Jupyter\n",
        "```\n",
        "\n",
        "You can find the `notebook_id` by cliking the *Clone* button at the top of this page on Jovian. On older versions of conda, you might need to run `source activate 02-linear-regression` to activate the environment. For a more detailed explanation of the above steps, check out the *System setup* section in the [previous notebook](https://jvn.io/aakashns/3143ceb92b4f4cbbb4f30e203580b77b)."
      ]
    },
    {
      "cell_type": "markdown",
      "metadata": {
        "id": "V9gfe_DDXbUv",
        "colab_type": "text"
      },
      "source": [
        "We begin by importing Numpy and PyTorch:"
      ]
    },
    {
      "cell_type": "code",
      "metadata": {
        "id": "MOqW6B_ZXbUx",
        "colab_type": "code",
        "colab": {}
      },
      "source": [
        "import numpy as np\n",
        "import torch"
      ],
      "execution_count": 0,
      "outputs": []
    },
    {
      "cell_type": "markdown",
      "metadata": {
        "id": "s5xuNxX5XbU0",
        "colab_type": "text"
      },
      "source": [
        "## Training data\n",
        "\n",
        "The training data can be represented using 2 matrices: `inputs` and `targets`, each with one row per observation, and one column per variable."
      ]
    },
    {
      "cell_type": "code",
      "metadata": {
        "id": "pMzF3JhlXbU2",
        "colab_type": "code",
        "colab": {}
      },
      "source": [
        "# Input (temp, rainfall, humidity)\n",
        "inputs = np.array([[73, 67, 43], \n",
        "                   [91, 88, 64], \n",
        "                   [87, 134, 58], \n",
        "                   [102, 43, 37], \n",
        "                   [69, 96, 70]], dtype='float32')"
      ],
      "execution_count": 0,
      "outputs": []
    },
    {
      "cell_type": "code",
      "metadata": {
        "id": "nUaLOuKVXbU7",
        "colab_type": "code",
        "colab": {}
      },
      "source": [
        "# Targets (apples, oranges)\n",
        "targets = np.array([[56, 70], \n",
        "                    [81, 101], \n",
        "                    [119, 133], \n",
        "                    [22, 37], \n",
        "                    [103, 119]], dtype='float32')"
      ],
      "execution_count": 0,
      "outputs": []
    },
    {
      "cell_type": "markdown",
      "metadata": {
        "id": "_vj_Zt9FXbVC",
        "colab_type": "text"
      },
      "source": [
        "We've separated the input and target variables, because we'll operate on them separately. Also, we've created numpy arrays, because this is typically how you would work with training data: read some CSV files as numpy arrays, do some processing, and then convert them to PyTorch tensors as follows:"
      ]
    },
    {
      "cell_type": "code",
      "metadata": {
        "id": "yCQfNt_ZXbVC",
        "colab_type": "code",
        "colab": {},
        "outputId": "e0f15f93-05cc-4241-af96-50121d7176b4"
      },
      "source": [
        "# Convert inputs and targets to tensors\n",
        "inputs = torch.from_numpy(inputs)\n",
        "targets = torch.from_numpy(targets)\n",
        "print(inputs)\n",
        "print(targets)"
      ],
      "execution_count": 0,
      "outputs": [
        {
          "output_type": "stream",
          "text": [
            "tensor([[ 73.,  67.,  43.],\n",
            "        [ 91.,  88.,  64.],\n",
            "        [ 87., 134.,  58.],\n",
            "        [102.,  43.,  37.],\n",
            "        [ 69.,  96.,  70.]])\n",
            "tensor([[ 56.,  70.],\n",
            "        [ 81., 101.],\n",
            "        [119., 133.],\n",
            "        [ 22.,  37.],\n",
            "        [103., 119.]])\n"
          ],
          "name": "stdout"
        }
      ]
    },
    {
      "cell_type": "markdown",
      "metadata": {
        "id": "KlIwgwZmXbVG",
        "colab_type": "text"
      },
      "source": [
        "## Linear regression model from scratch\n",
        "\n",
        "The weights and biases (`w11, w12,... w23, b1 & b2`) can also be represented as matrices, initialized as random values. The first row of `w` and the first element of `b` are used to predict the first target variable i.e. yield of apples, and similarly the second for oranges."
      ]
    },
    {
      "cell_type": "code",
      "metadata": {
        "id": "_HagtWdxXbVH",
        "colab_type": "code",
        "colab": {},
        "outputId": "0cc608e5-a672-4630-c260-cc02f124e247"
      },
      "source": [
        "# Weights and biases\n",
        "w = torch.randn(2, 3, requires_grad=True)\n",
        "b = torch.randn(2, requires_grad=True)\n",
        "print(w)\n",
        "print(b)"
      ],
      "execution_count": 0,
      "outputs": [
        {
          "output_type": "stream",
          "text": [
            "tensor([[-0.0087,  1.7880,  1.7419],\n",
            "        [ 1.7717, -0.8404, -1.6905]], requires_grad=True)\n",
            "tensor([0.8787, 1.4280], requires_grad=True)\n"
          ],
          "name": "stdout"
        }
      ]
    },
    {
      "cell_type": "markdown",
      "metadata": {
        "id": "hlTzc2KhXbVK",
        "colab_type": "text"
      },
      "source": [
        "`torch.randn` creates a tensor with the given shape, with elements picked randomly from a [normal distribution](https://en.wikipedia.org/wiki/Normal_distribution) with mean 0 and standard deviation 1.\n",
        "\n",
        "Our *model* is simply a function that performs a matrix multiplication of the `inputs` and the weights `w` (transposed) and adds the bias `b` (replicated for each observation).\n",
        "\n",
        "![matrix-mult](https://i.imgur.com/WGXLFvA.png)\n",
        "\n",
        "We can define the model as follows:"
      ]
    },
    {
      "cell_type": "code",
      "metadata": {
        "id": "236TXKA6XbVL",
        "colab_type": "code",
        "colab": {}
      },
      "source": [
        "def model(x):\n",
        "    return x @ w.t() + b"
      ],
      "execution_count": 0,
      "outputs": []
    },
    {
      "cell_type": "markdown",
      "metadata": {
        "id": "zlyJH6isXbVT",
        "colab_type": "text"
      },
      "source": [
        "`@` represents matrix multiplication in PyTorch, and the `.t` method returns the transpose of a tensor.\n",
        "\n",
        "The matrix obtained by passing the input data into the model is a set of predictions for the target variables."
      ]
    },
    {
      "cell_type": "code",
      "metadata": {
        "id": "NZo67TevXbVU",
        "colab_type": "code",
        "colab": {},
        "outputId": "09329c1c-48ae-422f-b980-389e3e9495c1"
      },
      "source": [
        "# Generate predictions\n",
        "preds = model(inputs)\n",
        "print(preds)"
      ],
      "execution_count": 0,
      "outputs": [
        {
          "output_type": "stream",
          "text": [
            "tensor([[194.9420,   1.7652],\n",
            "        [268.9133, -19.4926],\n",
            "        [340.7458, -55.0933],\n",
            "        [141.3261,  83.4559],\n",
            "        [293.8600, -75.3357]], grad_fn=<AddBackward0>)\n"
          ],
          "name": "stdout"
        }
      ]
    },
    {
      "cell_type": "markdown",
      "metadata": {
        "id": "Hr2bg-lGXbVY",
        "colab_type": "text"
      },
      "source": [
        "Let's compare the predictions of our model with the actual targets."
      ]
    },
    {
      "cell_type": "code",
      "metadata": {
        "id": "46DnFIlMXbVZ",
        "colab_type": "code",
        "colab": {},
        "outputId": "ad3abb4b-93fb-438c-ce47-de901854e3f0"
      },
      "source": [
        "# Compare with targets\n",
        "print(targets)"
      ],
      "execution_count": 0,
      "outputs": [
        {
          "output_type": "stream",
          "text": [
            "tensor([[ 56.,  70.],\n",
            "        [ 81., 101.],\n",
            "        [119., 133.],\n",
            "        [ 22.,  37.],\n",
            "        [103., 119.]])\n"
          ],
          "name": "stdout"
        }
      ]
    },
    {
      "cell_type": "markdown",
      "metadata": {
        "id": "vxtjRZJFXbVh",
        "colab_type": "text"
      },
      "source": [
        "You can see that there's a huge difference between the predictions of our model, and the actual values of the target variables. Obviously, this is because we've initialized our model with random weights and biases, and we can't expect it to *just work*."
      ]
    },
    {
      "cell_type": "markdown",
      "metadata": {
        "id": "mLhd1yUrXbVi",
        "colab_type": "text"
      },
      "source": [
        "## Loss function\n",
        "\n",
        "Before we improve our model, we need a way to evaluate how well our model is performing. We can compare the model's predictions with the actual targets, using the following method:\n",
        "\n",
        "* Calculate the difference between the two matrices (`preds` and `targets`).\n",
        "* Square all elements of the difference matrix to remove negative values.\n",
        "* Calculate the average of the elements in the resulting matrix.\n",
        "\n",
        "The result is a single number, known as the **mean squared error** (MSE)."
      ]
    },
    {
      "cell_type": "code",
      "metadata": {
        "id": "JDzzqcADXbVi",
        "colab_type": "code",
        "colab": {}
      },
      "source": [
        "# MSE loss\n",
        "def mse(t1, t2):\n",
        "    diff = t1 - t2\n",
        "    return torch.sum(diff * diff) / diff.numel()"
      ],
      "execution_count": 0,
      "outputs": []
    },
    {
      "cell_type": "markdown",
      "metadata": {
        "id": "y3AQr9IaXbVl",
        "colab_type": "text"
      },
      "source": [
        "`torch.sum` returns the sum of all the elements in a tensor, and the `.numel` method returns the number of elements in a tensor. Let's compute the mean squared error for the current predictions of our model."
      ]
    },
    {
      "cell_type": "code",
      "metadata": {
        "id": "3ZVEgnDsXbVm",
        "colab_type": "code",
        "colab": {},
        "outputId": "80a2fbcd-d88e-4984-c154-73e9c8b58886"
      },
      "source": [
        "# Compute loss\n",
        "loss = mse(preds, targets)\n",
        "print(loss)"
      ],
      "execution_count": 0,
      "outputs": [
        {
          "output_type": "stream",
          "text": [
            "tensor(24893.1816, grad_fn=<DivBackward0>)\n"
          ],
          "name": "stdout"
        }
      ]
    },
    {
      "cell_type": "markdown",
      "metadata": {
        "id": "PYHoMKyAXbVp",
        "colab_type": "text"
      },
      "source": [
        "Here’s how we can interpret the result: *On average, each element in the prediction differs from the actual target by about 138 (square root of the loss 19044)*. And that’s pretty bad, considering the numbers we are trying to predict are themselves in the range 50–200. Also, the result is called the *loss*, because it indicates how bad the model is at predicting the target variables. Lower the loss, better the model."
      ]
    },
    {
      "cell_type": "markdown",
      "metadata": {
        "id": "4Q9qOzF5XbVq",
        "colab_type": "text"
      },
      "source": [
        "## Compute gradients\n",
        "\n",
        "With PyTorch, we can automatically compute the gradient or derivative of the loss w.r.t. to the weights and biases, because they have `requires_grad` set to `True`."
      ]
    },
    {
      "cell_type": "code",
      "metadata": {
        "id": "yAPEEKoUXbVq",
        "colab_type": "code",
        "colab": {}
      },
      "source": [
        "# Compute gradients\n",
        "loss.backward()"
      ],
      "execution_count": 0,
      "outputs": []
    },
    {
      "cell_type": "markdown",
      "metadata": {
        "id": "76_W2x66XbVt",
        "colab_type": "text"
      },
      "source": [
        "The gradients are stored in the `.grad` property of the respective tensors. Note that the derivative of the loss w.r.t. the weights matrix is itself a matrix, with the same dimensions."
      ]
    },
    {
      "cell_type": "code",
      "metadata": {
        "id": "Xk34KIyqXbVz",
        "colab_type": "code",
        "colab": {},
        "outputId": "e2839db9-3cce-4085-a2c0-58cbc0d1a44c"
      },
      "source": [
        "# Gradients for weights\n",
        "print(w)\n",
        "print(w.grad)"
      ],
      "execution_count": 0,
      "outputs": [
        {
          "output_type": "stream",
          "text": [
            "tensor([[-0.0087,  1.7880,  1.7419],\n",
            "        [ 1.7717, -0.8404, -1.6905]], requires_grad=True)\n",
            "tensor([[ 14375.0742,  15802.6016,   9727.4961],\n",
            "        [ -8196.1484, -11407.6416,  -6687.9331]])\n"
          ],
          "name": "stdout"
        }
      ]
    },
    {
      "cell_type": "markdown",
      "metadata": {
        "id": "v-OTsdVgXbV1",
        "colab_type": "text"
      },
      "source": [
        "The loss is a [quadratic function](https://en.wikipedia.org/wiki/Quadratic_function) of our weights and biases, and our objective is to find the set of weights where the loss is the lowest. If we plot a graph of the loss w.r.t any individual weight or bias element, it will look like the figure shown below. A key insight from calculus is that the gradient indicates the rate of change of the loss, or the [slope](https://en.wikipedia.org/wiki/Slope) of the loss function w.r.t. the weights and biases.\n",
        "\n",
        "If a gradient element is **positive**:\n",
        "* **increasing** the element's value slightly will **increase** the loss.\n",
        "* **decreasing** the element's value slightly will **decrease** the loss\n",
        "\n",
        "![postive-gradient](https://i.imgur.com/hFYoVgU.png)\n",
        "\n",
        "If a gradient element is **negative**:\n",
        "* **increasing** the element's value slightly will **decrease** the loss.\n",
        "* **decreasing** the element's value slightly will **increase** the loss.\n",
        "\n",
        "![negative=gradient](https://i.imgur.com/w3Wii7C.png)\n",
        "\n",
        "The increase or decrease in loss by changing a weight element is proportional to the value of the gradient of the loss w.r.t. that element. This forms the basis for the optimization algorithm that we'll use to improve our model."
      ]
    },
    {
      "cell_type": "markdown",
      "metadata": {
        "id": "WV2a8Pp2XbV2",
        "colab_type": "text"
      },
      "source": [
        "Before we proceed, we reset the gradients to zero by calling `.zero_()` method. We need to do this, because PyTorch accumulates, gradients i.e. the next time we call `.backward` on the loss, the new gradient values will get added to the existing gradient values, which may lead to unexpected results."
      ]
    },
    {
      "cell_type": "code",
      "metadata": {
        "id": "DSEm_DZeXbV2",
        "colab_type": "code",
        "colab": {},
        "outputId": "88d8a742-51b7-4585-e508-64e7f28704f3"
      },
      "source": [
        "w.grad.zero_()\n",
        "b.grad.zero_()\n",
        "print(w.grad)\n",
        "print(b.grad)"
      ],
      "execution_count": 0,
      "outputs": [
        {
          "output_type": "stream",
          "text": [
            "tensor([[0., 0., 0.],\n",
            "        [0., 0., 0.]])\n",
            "tensor([0., 0.])\n"
          ],
          "name": "stdout"
        }
      ]
    },
    {
      "cell_type": "markdown",
      "metadata": {
        "id": "I3V3VYKYXbV5",
        "colab_type": "text"
      },
      "source": [
        "## Adjust weights and biases using gradient descent\n",
        "\n",
        "We'll reduce the loss and improve our model using the gradient descent optimization algorithm, which has the following steps:\n",
        "\n",
        "1. Generate predictions\n",
        "\n",
        "2. Calculate the loss\n",
        "\n",
        "3. Compute gradients w.r.t the weights and biases\n",
        "\n",
        "4. Adjust the weights by subtracting a small quantity proportional to the gradient\n",
        "\n",
        "5. Reset the gradients to zero\n",
        "\n",
        "Let's implement the above step by step."
      ]
    },
    {
      "cell_type": "code",
      "metadata": {
        "id": "4m3YWTsDXbV5",
        "colab_type": "code",
        "colab": {},
        "outputId": "0a25e4d4-5e5d-4f5e-8fd6-dd9dcba091b4"
      },
      "source": [
        "# Generate predictions\n",
        "preds = model(inputs)\n",
        "print(preds)"
      ],
      "execution_count": 0,
      "outputs": [
        {
          "output_type": "stream",
          "text": [
            "tensor([[194.9420,   1.7652],\n",
            "        [268.9133, -19.4926],\n",
            "        [340.7458, -55.0933],\n",
            "        [141.3261,  83.4559],\n",
            "        [293.8600, -75.3357]], grad_fn=<AddBackward0>)\n"
          ],
          "name": "stdout"
        }
      ]
    },
    {
      "cell_type": "markdown",
      "metadata": {
        "id": "L-GXIEaQXbV8",
        "colab_type": "text"
      },
      "source": [
        "Note that the predictions are same as before, since we haven't made any changes to our model. The same holds true for the loss and gradients."
      ]
    },
    {
      "cell_type": "code",
      "metadata": {
        "id": "PizIVWblXbV8",
        "colab_type": "code",
        "colab": {},
        "outputId": "992c93d6-6160-4c65-f63e-ebce823d54d4"
      },
      "source": [
        "# Calculate the loss\n",
        "loss = mse(preds, targets)\n",
        "print(loss)"
      ],
      "execution_count": 0,
      "outputs": [
        {
          "output_type": "stream",
          "text": [
            "tensor(24893.1816, grad_fn=<DivBackward0>)\n"
          ],
          "name": "stdout"
        }
      ]
    },
    {
      "cell_type": "code",
      "metadata": {
        "id": "qUXHz7jIXbWE",
        "colab_type": "code",
        "colab": {},
        "outputId": "de1467aa-50c6-4c60-cba6-f3fd6def27dd"
      },
      "source": [
        "# Compute gradients\n",
        "loss.backward()\n",
        "print(w.grad)\n",
        "print(b.grad)"
      ],
      "execution_count": 0,
      "outputs": [
        {
          "output_type": "stream",
          "text": [
            "tensor([[ 14375.0742,  15802.6016,   9727.4961],\n",
            "        [ -8196.1484, -11407.6416,  -6687.9331]])\n",
            "tensor([ 171.7575, -104.9401])\n"
          ],
          "name": "stdout"
        }
      ]
    },
    {
      "cell_type": "markdown",
      "metadata": {
        "id": "iZIz8L6wXbWK",
        "colab_type": "text"
      },
      "source": [
        "Finally, we update the weights and biases using the gradients computed above."
      ]
    },
    {
      "cell_type": "code",
      "metadata": {
        "id": "2Tf50FXyXbWL",
        "colab_type": "code",
        "colab": {}
      },
      "source": [
        "# Adjust weights & reset gradients\n",
        "with torch.no_grad():\n",
        "    w -= w.grad * 1e-5\n",
        "    b -= b.grad * 1e-5\n",
        "    w.grad.zero_()\n",
        "    b.grad.zero_()"
      ],
      "execution_count": 0,
      "outputs": []
    },
    {
      "cell_type": "markdown",
      "metadata": {
        "id": "NfiIIqZHXbWN",
        "colab_type": "text"
      },
      "source": [
        "A few things to note above:\n",
        "\n",
        "* We use `torch.no_grad` to indicate to PyTorch that we shouldn't track, calculate or modify gradients while updating the weights and biases. \n",
        "\n",
        "* We multiply the gradients with a really small number (`10^-5` in this case), to ensure that we don't modify the weights by a really large amount, since we only want to take a small step in the downhill direction of the gradient. This number is called the *learning rate* of the algorithm. \n",
        "\n",
        "* After we have updated the weights, we reset the gradients back to zero, to avoid affecting any future computations."
      ]
    },
    {
      "cell_type": "markdown",
      "metadata": {
        "id": "YTShhMe1XbWN",
        "colab_type": "text"
      },
      "source": [
        "Let's take a look at the new weights and biases."
      ]
    },
    {
      "cell_type": "code",
      "metadata": {
        "id": "kEBWnHUkXbWO",
        "colab_type": "code",
        "colab": {},
        "outputId": "a85db8bd-a8b4-4606-8840-0c8e1c0257f0"
      },
      "source": [
        "print(w)\n",
        "print(b)"
      ],
      "execution_count": 0,
      "outputs": [
        {
          "output_type": "stream",
          "text": [
            "tensor([[-0.1524,  1.6300,  1.6446],\n",
            "        [ 1.8536, -0.7263, -1.6236]], requires_grad=True)\n",
            "tensor([0.8770, 1.4290], requires_grad=True)\n"
          ],
          "name": "stdout"
        }
      ]
    },
    {
      "cell_type": "markdown",
      "metadata": {
        "id": "VjC0nq62XbWU",
        "colab_type": "text"
      },
      "source": [
        "With the new weights and biases, the model should have lower loss."
      ]
    },
    {
      "cell_type": "code",
      "metadata": {
        "id": "oeU7KoLdXbWV",
        "colab_type": "code",
        "colab": {},
        "outputId": "6000abdf-ebcf-42e4-d8e9-ba3c3299c909"
      },
      "source": [
        "# Calculate loss\n",
        "preds = model(inputs)\n",
        "loss = mse(preds, targets)\n",
        "print(loss)"
      ],
      "execution_count": 0,
      "outputs": [
        {
          "output_type": "stream",
          "text": [
            "tensor(17669.7734, grad_fn=<DivBackward0>)\n"
          ],
          "name": "stdout"
        }
      ]
    },
    {
      "cell_type": "markdown",
      "metadata": {
        "id": "zm5Qtua9XbWX",
        "colab_type": "text"
      },
      "source": [
        "We have already achieved a significant reduction in the loss, simply by adjusting the weights and biases slightly using gradient descent."
      ]
    },
    {
      "cell_type": "markdown",
      "metadata": {
        "id": "cFns9vNKXbWZ",
        "colab_type": "text"
      },
      "source": [
        "## Train for multiple epochs\n",
        "\n",
        "To reduce the loss further, we can repeat the process of adjusting the weights and biases using the gradients multiple times. Each iteration is called an epoch. Let's train the model for 100 epochs."
      ]
    },
    {
      "cell_type": "code",
      "metadata": {
        "id": "w_eymoLIXbWa",
        "colab_type": "code",
        "colab": {}
      },
      "source": [
        "# Train for 100 epochs\n",
        "for i in range(100):\n",
        "    preds = model(inputs)\n",
        "    loss = mse(preds, targets)\n",
        "    loss.backward()\n",
        "    with torch.no_grad():\n",
        "        w -= w.grad * 1e-5\n",
        "        b -= b.grad * 1e-5\n",
        "        w.grad.zero_()\n",
        "        b.grad.zero_()"
      ],
      "execution_count": 0,
      "outputs": []
    },
    {
      "cell_type": "markdown",
      "metadata": {
        "id": "9R3NMWnoXbWd",
        "colab_type": "text"
      },
      "source": [
        "Once again, let's verify that the loss is now lower:"
      ]
    },
    {
      "cell_type": "code",
      "metadata": {
        "id": "8sgqPQyoXbWd",
        "colab_type": "code",
        "colab": {},
        "outputId": "8d822aed-879c-48cf-af24-2888d2601b93"
      },
      "source": [
        "# Calculate loss\n",
        "preds = model(inputs)\n",
        "loss = mse(preds, targets)\n",
        "print(loss)"
      ],
      "execution_count": 0,
      "outputs": [
        {
          "output_type": "stream",
          "text": [
            "tensor(923.2156, grad_fn=<DivBackward0>)\n"
          ],
          "name": "stdout"
        }
      ]
    },
    {
      "cell_type": "markdown",
      "metadata": {
        "id": "sZwG9WO3XbWl",
        "colab_type": "text"
      },
      "source": [
        "As you can see, the loss is now much lower than what we started out with. Let's look at the model's predictions and compare them with the targets."
      ]
    },
    {
      "cell_type": "code",
      "metadata": {
        "id": "brtekt_XXbWm",
        "colab_type": "code",
        "colab": {},
        "outputId": "186708de-6f1a-4f35-f76a-0f720a8a866d"
      },
      "source": [
        "# Predictions\n",
        "preds"
      ],
      "execution_count": 0,
      "outputs": [
        {
          "output_type": "execute_result",
          "data": {
            "text/plain": [
              "tensor([[ 55.2696,  83.9602],\n",
              "        [ 84.1978,  95.8207],\n",
              "        [117.2152, 122.0459],\n",
              "        [  9.5489, 113.5510],\n",
              "        [112.2853,  66.3197]], grad_fn=<AddBackward0>)"
            ]
          },
          "metadata": {
            "tags": []
          },
          "execution_count": 22
        }
      ]
    },
    {
      "cell_type": "code",
      "metadata": {
        "id": "ao1bOgWwXbWo",
        "colab_type": "code",
        "colab": {},
        "outputId": "9e9b7c43-6f5d-451b-8a88-32298d171e19"
      },
      "source": [
        "# Targets\n",
        "targets"
      ],
      "execution_count": 0,
      "outputs": [
        {
          "output_type": "execute_result",
          "data": {
            "text/plain": [
              "tensor([[ 56.,  70.],\n",
              "        [ 81., 101.],\n",
              "        [119., 133.],\n",
              "        [ 22.,  37.],\n",
              "        [103., 119.]])"
            ]
          },
          "metadata": {
            "tags": []
          },
          "execution_count": 23
        }
      ]
    },
    {
      "cell_type": "markdown",
      "metadata": {
        "id": "bSd_ZdOuXbWr",
        "colab_type": "text"
      },
      "source": [
        "The prediction are now quite close to the target variables, and we can get even better results by training for a few more epochs. "
      ]
    },
    {
      "cell_type": "markdown",
      "metadata": {
        "id": "vZUYVatXXbWt",
        "colab_type": "text"
      },
      "source": [
        "## Linear regression using PyTorch built-ins\n",
        "\n",
        "The model and training process above were implemented using basic matrix operations. But since this such a common pattern , PyTorch has several built-in functions and classes to make it easy to create and train models.\n",
        "\n",
        "Let's begin by importing the `torch.nn` package from PyTorch, which contains utility classes for building neural networks."
      ]
    },
    {
      "cell_type": "code",
      "metadata": {
        "id": "806MMD4aXbWt",
        "colab_type": "code",
        "colab": {}
      },
      "source": [
        "import torch.nn as nn"
      ],
      "execution_count": 0,
      "outputs": []
    },
    {
      "cell_type": "markdown",
      "metadata": {
        "id": "jRA960s6XbWv",
        "colab_type": "text"
      },
      "source": [
        "As before, we represent the inputs and targets and matrices."
      ]
    },
    {
      "cell_type": "code",
      "metadata": {
        "id": "GRYmWHHCXbW1",
        "colab_type": "code",
        "colab": {}
      },
      "source": [
        "# Input (temp, rainfall, humidity)\n",
        "inputs = np.array([[73, 67, 43], [91, 88, 64], [87, 134, 58], \n",
        "                   [102, 43, 37], [69, 96, 70], [73, 67, 43], \n",
        "                   [91, 88, 64], [87, 134, 58], [102, 43, 37], \n",
        "                   [69, 96, 70], [73, 67, 43], [91, 88, 64], \n",
        "                   [87, 134, 58], [102, 43, 37], [69, 96, 70]], \n",
        "                  dtype='float32')\n",
        "\n",
        "# Targets (apples, oranges)\n",
        "targets = np.array([[56, 70], [81, 101], [119, 133], \n",
        "                    [22, 37], [103, 119], [56, 70], \n",
        "                    [81, 101], [119, 133], [22, 37], \n",
        "                    [103, 119], [56, 70], [81, 101], \n",
        "                    [119, 133], [22, 37], [103, 119]], \n",
        "                   dtype='float32')\n",
        "\n",
        "inputs = torch.from_numpy(inputs)\n",
        "targets = torch.from_numpy(targets)"
      ],
      "execution_count": 0,
      "outputs": []
    },
    {
      "cell_type": "markdown",
      "metadata": {
        "id": "8WNvtRWDXbW3",
        "colab_type": "text"
      },
      "source": [
        "We are using 15 training examples this time, to illustrate how to work with large datasets in small batches."
      ]
    },
    {
      "cell_type": "markdown",
      "metadata": {
        "id": "_AkBwnZsXbW3",
        "colab_type": "text"
      },
      "source": [
        "## Dataset and DataLoader\n",
        "\n",
        "We'll create a `TensorDataset`, which allows access to rows from `inputs` and `targets` as tuples, and provides standard APIs for working with many different types of datasets in PyTorch."
      ]
    },
    {
      "cell_type": "code",
      "metadata": {
        "id": "fYDtulfxXbW4",
        "colab_type": "code",
        "colab": {}
      },
      "source": [
        "from torch.utils.data import TensorDataset"
      ],
      "execution_count": 0,
      "outputs": []
    },
    {
      "cell_type": "code",
      "metadata": {
        "id": "tQj5selwXbW5",
        "colab_type": "code",
        "colab": {},
        "outputId": "88ff05d8-4edf-400e-8de0-f8afc7e35df8"
      },
      "source": [
        "# Define dataset\n",
        "train_ds = TensorDataset(inputs, targets)\n",
        "train_ds[0:3]"
      ],
      "execution_count": 0,
      "outputs": [
        {
          "output_type": "execute_result",
          "data": {
            "text/plain": [
              "(tensor([[ 73.,  67.,  43.],\n",
              "         [ 91.,  88.,  64.],\n",
              "         [ 87., 134.,  58.]]), tensor([[ 56.,  70.],\n",
              "         [ 81., 101.],\n",
              "         [119., 133.]]))"
            ]
          },
          "metadata": {
            "tags": []
          },
          "execution_count": 27
        }
      ]
    },
    {
      "cell_type": "markdown",
      "metadata": {
        "id": "H4jvLO-lXbW9",
        "colab_type": "text"
      },
      "source": [
        "The `TensorDataset` allows us to access a small section of the training data using the array indexing notation (`[0:3]` in the above code). It returns a tuple (or pair), in which the first element contains the input variables for the selected rows, and the second contains the targets."
      ]
    },
    {
      "cell_type": "markdown",
      "metadata": {
        "id": "Q_qUPV0XXbW9",
        "colab_type": "text"
      },
      "source": [
        "We'll also create a `DataLoader`, which can split the data into batches of a predefined size while training. It also provides other utilities like shuffling and random sampling of the data."
      ]
    },
    {
      "cell_type": "code",
      "metadata": {
        "id": "BKh0DuDrXbW-",
        "colab_type": "code",
        "colab": {}
      },
      "source": [
        "from torch.utils.data import DataLoader"
      ],
      "execution_count": 0,
      "outputs": []
    },
    {
      "cell_type": "code",
      "metadata": {
        "id": "xSgNu9e1XbXG",
        "colab_type": "code",
        "colab": {}
      },
      "source": [
        "# Define data loader\n",
        "batch_size = 5\n",
        "train_dl = DataLoader(train_ds, batch_size, shuffle=True)"
      ],
      "execution_count": 0,
      "outputs": []
    },
    {
      "cell_type": "markdown",
      "metadata": {
        "id": "EZPbmiyTXbXJ",
        "colab_type": "text"
      },
      "source": [
        "The data loader is typically used in a `for-in` loop. Let's look at an example."
      ]
    },
    {
      "cell_type": "code",
      "metadata": {
        "id": "q3HdZNotXbXJ",
        "colab_type": "code",
        "colab": {},
        "outputId": "7c1f8803-5b85-4c0f-ceba-a41f5288de9a"
      },
      "source": [
        "for xb, yb in train_dl:\n",
        "    print(xb)\n",
        "    print(yb)\n",
        "    break"
      ],
      "execution_count": 0,
      "outputs": [
        {
          "output_type": "stream",
          "text": [
            "tensor([[ 91.,  88.,  64.],\n",
            "        [ 87., 134.,  58.],\n",
            "        [102.,  43.,  37.],\n",
            "        [102.,  43.,  37.],\n",
            "        [ 73.,  67.,  43.]])\n",
            "tensor([[ 81., 101.],\n",
            "        [119., 133.],\n",
            "        [ 22.,  37.],\n",
            "        [ 22.,  37.],\n",
            "        [ 56.,  70.]])\n"
          ],
          "name": "stdout"
        }
      ]
    },
    {
      "cell_type": "markdown",
      "metadata": {
        "id": "JOgsKRNAXbXQ",
        "colab_type": "text"
      },
      "source": [
        "In each iteration, the data loader returns one batch of data, with the given batch size. If `shuffle` is set to `True`, it shuffles the training data before creating batches. Shuffling helps randomize the input to the optimization algorithm, which can lead to faster reduction in the loss."
      ]
    },
    {
      "cell_type": "markdown",
      "metadata": {
        "id": "MbYrp8l8XbXR",
        "colab_type": "text"
      },
      "source": [
        "## nn.Linear\n",
        "\n",
        "Instead of initializing the weights & biases manually, we can define the model using the `nn.Linear` class from PyTorch, which does it automatically."
      ]
    },
    {
      "cell_type": "code",
      "metadata": {
        "id": "oSKi5zCHXbXW",
        "colab_type": "code",
        "colab": {},
        "outputId": "8ec3773d-1cb9-4b99-c091-585f30848c66"
      },
      "source": [
        "# Define model\n",
        "model = nn.Linear(3, 2)\n",
        "print(model.weight)\n",
        "print(model.bias)"
      ],
      "execution_count": 0,
      "outputs": [
        {
          "output_type": "stream",
          "text": [
            "Parameter containing:\n",
            "tensor([[-0.3448,  0.3067, -0.3853],\n",
            "        [ 0.3841,  0.0597, -0.4815]], requires_grad=True)\n",
            "Parameter containing:\n",
            "tensor([-0.1853,  0.1940], requires_grad=True)\n"
          ],
          "name": "stdout"
        }
      ]
    },
    {
      "cell_type": "markdown",
      "metadata": {
        "id": "2hAtwHZ4XbXd",
        "colab_type": "text"
      },
      "source": [
        "PyTorch models also have a helpful `.parameters` method, which returns a list containing all the weights and bias matrices present in the model. For our linear regression model, we have one weight matrix and one bias matrix."
      ]
    },
    {
      "cell_type": "code",
      "metadata": {
        "id": "cEsRnJmNXbXe",
        "colab_type": "code",
        "colab": {},
        "outputId": "51b2aae6-ca22-4b49-eb6f-56846a70f5d0"
      },
      "source": [
        "# Parameters\n",
        "list(model.parameters())"
      ],
      "execution_count": 0,
      "outputs": [
        {
          "output_type": "execute_result",
          "data": {
            "text/plain": [
              "[Parameter containing:\n",
              " tensor([[-0.3448,  0.3067, -0.3853],\n",
              "         [ 0.3841,  0.0597, -0.4815]], requires_grad=True),\n",
              " Parameter containing:\n",
              " tensor([-0.1853,  0.1940], requires_grad=True)]"
            ]
          },
          "metadata": {
            "tags": []
          },
          "execution_count": 32
        }
      ]
    },
    {
      "cell_type": "markdown",
      "metadata": {
        "id": "ZXAN5fjnXbXh",
        "colab_type": "text"
      },
      "source": [
        "We can use the model to generate predictions in the exact same way as before:"
      ]
    },
    {
      "cell_type": "code",
      "metadata": {
        "id": "UEOP7TgTXbXm",
        "colab_type": "code",
        "colab": {},
        "outputId": "b7792e61-8c2b-4b49-ec9d-da7b4a84b814"
      },
      "source": [
        "# Generate predictions\n",
        "preds = model(inputs)\n",
        "preds"
      ],
      "execution_count": 0,
      "outputs": [
        {
          "output_type": "execute_result",
          "data": {
            "text/plain": [
              "tensor([[-21.3752,  11.5279],\n",
              "        [-29.2325,   9.5835],\n",
              "        [-11.4312,  13.6843],\n",
              "        [-36.4248,  24.1218],\n",
              "        [-21.5045,  -1.2776],\n",
              "        [-21.3752,  11.5279],\n",
              "        [-29.2325,   9.5835],\n",
              "        [-11.4312,  13.6843],\n",
              "        [-36.4248,  24.1218],\n",
              "        [-21.5045,  -1.2776],\n",
              "        [-21.3752,  11.5279],\n",
              "        [-29.2325,   9.5835],\n",
              "        [-11.4312,  13.6843],\n",
              "        [-36.4248,  24.1218],\n",
              "        [-21.5045,  -1.2776]], grad_fn=<AddmmBackward>)"
            ]
          },
          "metadata": {
            "tags": []
          },
          "execution_count": 33
        }
      ]
    },
    {
      "cell_type": "markdown",
      "metadata": {
        "id": "-jXzCk8VXbXp",
        "colab_type": "text"
      },
      "source": [
        "## Loss Function\n",
        "\n",
        "Instead of defining a loss function manually, we can use the built-in loss function `mse_loss`."
      ]
    },
    {
      "cell_type": "code",
      "metadata": {
        "id": "bKyeQtqNXbXq",
        "colab_type": "code",
        "colab": {}
      },
      "source": [
        "# Import nn.functional\n",
        "import torch.nn.functional as F"
      ],
      "execution_count": 0,
      "outputs": []
    },
    {
      "cell_type": "markdown",
      "metadata": {
        "id": "kUHJHBcnXbXt",
        "colab_type": "text"
      },
      "source": [
        "The `nn.functional` package contains many useful loss functions and several other utilities. "
      ]
    },
    {
      "cell_type": "code",
      "metadata": {
        "id": "jOko6UDsXbXu",
        "colab_type": "code",
        "colab": {}
      },
      "source": [
        "# Define loss function\n",
        "loss_fn = F.mse_loss"
      ],
      "execution_count": 0,
      "outputs": []
    },
    {
      "cell_type": "markdown",
      "metadata": {
        "id": "sigbM-zjXbXv",
        "colab_type": "text"
      },
      "source": [
        "Let's compute the loss for the current predictions of our model."
      ]
    },
    {
      "cell_type": "code",
      "metadata": {
        "id": "wfE0l7qzXbXv",
        "colab_type": "code",
        "colab": {},
        "outputId": "313337ab-699e-4ded-81d0-2d417dadf8af"
      },
      "source": [
        "loss = loss_fn(model(inputs), targets)\n",
        "print(loss)"
      ],
      "execution_count": 0,
      "outputs": [
        {
          "output_type": "stream",
          "text": [
            "tensor(9471.0029, grad_fn=<MseLossBackward>)\n"
          ],
          "name": "stdout"
        }
      ]
    },
    {
      "cell_type": "markdown",
      "metadata": {
        "id": "Hjmv_hlZXbXx",
        "colab_type": "text"
      },
      "source": [
        "## Optimizer\n",
        "\n",
        "Instead of manually manipulating the model's weights & biases using gradients, we can use the optimizer `optim.SGD`. SGD stands for `stochastic gradient descent`. It is called `stochastic` because samples are selected in batches (often with random shuffling) instead of as a single group."
      ]
    },
    {
      "cell_type": "code",
      "metadata": {
        "id": "AF_1inufXbXy",
        "colab_type": "code",
        "colab": {}
      },
      "source": [
        "# Define optimizer\n",
        "opt = torch.optim.SGD(model.parameters(), lr=1e-5)"
      ],
      "execution_count": 0,
      "outputs": []
    },
    {
      "cell_type": "markdown",
      "metadata": {
        "id": "7Vl016RNXbX5",
        "colab_type": "text"
      },
      "source": [
        "Note that `model.parameters()` is passed as an argument to `optim.SGD`, so that the optimizer knows which matrices should be modified during the update step. Also, we can specify a learning rate which controls the amount by which the parameters are modified."
      ]
    },
    {
      "cell_type": "markdown",
      "metadata": {
        "id": "PD3-GC3OXbX5",
        "colab_type": "text"
      },
      "source": [
        "## Train the model\n",
        "\n",
        "We are now ready to train the model. We'll follow the exact same process to implement gradient descent:\n",
        "\n",
        "1. Generate predictions\n",
        "\n",
        "2. Calculate the loss\n",
        "\n",
        "3. Compute gradients w.r.t the weights and biases\n",
        "\n",
        "4. Adjust the weights by subtracting a small quantity proportional to the gradient\n",
        "\n",
        "5. Reset the gradients to zero\n",
        "\n",
        "The only change is that we'll work batches of data, instead of processing the entire training data in every iteration. Let's define a utility function `fit` which trains the model for a given number of epochs."
      ]
    },
    {
      "cell_type": "code",
      "metadata": {
        "id": "UDTydVhJXbX6",
        "colab_type": "code",
        "colab": {}
      },
      "source": [
        "# Utility function to train the model\n",
        "def fit(num_epochs, model, loss_fn, opt):\n",
        "    \n",
        "    # Repeat for given number of epochs\n",
        "    for epoch in range(num_epochs):\n",
        "        \n",
        "        # Train with batches of data\n",
        "        for xb,yb in train_dl:\n",
        "            \n",
        "            # 1. Generate predictions\n",
        "            pred = model(xb)\n",
        "            \n",
        "            # 2. Calculate loss\n",
        "            loss = loss_fn(pred, yb)\n",
        "            \n",
        "            # 3. Compute gradients\n",
        "            loss.backward()\n",
        "            \n",
        "            # 4. Update parameters using gradients\n",
        "            opt.step()\n",
        "            \n",
        "            # 5. Reset the gradients to zero\n",
        "            opt.zero_grad()\n",
        "        \n",
        "        # Print the progress\n",
        "        if (epoch+1) % 10 == 0:\n",
        "            print('Epoch [{}/{}], Loss: {:.4f}'.format(epoch+1, num_epochs, loss.item()))"
      ],
      "execution_count": 0,
      "outputs": []
    },
    {
      "cell_type": "markdown",
      "metadata": {
        "id": "5pT6Ob7nXbX8",
        "colab_type": "text"
      },
      "source": [
        "Some things to note above:\n",
        "\n",
        "* We use the data loader defined earlier to get batches of data for every iteration.\n",
        "\n",
        "* Instead of updating parameters (weights and biases) manually, we use `opt.step` to perform the update, and `opt.zero_grad` to reset the gradients to zero.\n",
        "\n",
        "* We've also added a log statement which prints the loss from the last batch of data for every 10th epoch, to track the progress of training. `loss.item` returns the actual value stored in the loss tensor.\n",
        "\n",
        "Let's train the model for 100 epochs."
      ]
    },
    {
      "cell_type": "code",
      "metadata": {
        "id": "KHnds4YcXbX-",
        "colab_type": "code",
        "colab": {},
        "outputId": "22b62613-d951-454e-e41e-2817cf6de623"
      },
      "source": [
        "fit(100, model, loss_fn, opt)"
      ],
      "execution_count": 0,
      "outputs": [
        {
          "output_type": "stream",
          "text": [
            "Epoch [10/100], Loss: 37.5642\n",
            "Epoch [20/100], Loss: 291.0854\n",
            "Epoch [30/100], Loss: 436.7835\n",
            "Epoch [40/100], Loss: 176.9999\n",
            "Epoch [50/100], Loss: 137.3858\n",
            "Epoch [60/100], Loss: 141.7723\n",
            "Epoch [70/100], Loss: 128.0946\n",
            "Epoch [80/100], Loss: 118.7233\n",
            "Epoch [90/100], Loss: 72.0366\n",
            "Epoch [100/100], Loss: 62.3155\n"
          ],
          "name": "stdout"
        }
      ]
    },
    {
      "cell_type": "markdown",
      "metadata": {
        "id": "0zrdMTNLXbYI",
        "colab_type": "text"
      },
      "source": [
        "Let's generate predictions using our model and verify that they're close to our targets."
      ]
    },
    {
      "cell_type": "code",
      "metadata": {
        "id": "3mKZNYoYXbYI",
        "colab_type": "code",
        "colab": {},
        "outputId": "47154ba1-bb54-401c-87e4-6f45f0611303"
      },
      "source": [
        "# Generate predictions\n",
        "preds = model(inputs)\n",
        "preds"
      ],
      "execution_count": 0,
      "outputs": [
        {
          "output_type": "execute_result",
          "data": {
            "text/plain": [
              "tensor([[ 58.0460,  72.1231],\n",
              "        [ 78.4095,  95.4645],\n",
              "        [125.1510, 140.6731],\n",
              "        [ 26.5400,  47.6815],\n",
              "        [ 92.1481, 103.9832],\n",
              "        [ 58.0460,  72.1231],\n",
              "        [ 78.4095,  95.4645],\n",
              "        [125.1510, 140.6731],\n",
              "        [ 26.5400,  47.6815],\n",
              "        [ 92.1481, 103.9832],\n",
              "        [ 58.0460,  72.1231],\n",
              "        [ 78.4095,  95.4645],\n",
              "        [125.1510, 140.6731],\n",
              "        [ 26.5400,  47.6815],\n",
              "        [ 92.1481, 103.9832]], grad_fn=<AddmmBackward>)"
            ]
          },
          "metadata": {
            "tags": []
          },
          "execution_count": 40
        }
      ]
    },
    {
      "cell_type": "code",
      "metadata": {
        "id": "K1Y0Y0AmXbYK",
        "colab_type": "code",
        "colab": {},
        "outputId": "5bbb02e1-cfd2-47e1-b3ff-e9d640ce6d91"
      },
      "source": [
        "# Compare with targets\n",
        "targets"
      ],
      "execution_count": 0,
      "outputs": [
        {
          "output_type": "execute_result",
          "data": {
            "text/plain": [
              "tensor([[ 56.,  70.],\n",
              "        [ 81., 101.],\n",
              "        [119., 133.],\n",
              "        [ 22.,  37.],\n",
              "        [103., 119.],\n",
              "        [ 56.,  70.],\n",
              "        [ 81., 101.],\n",
              "        [119., 133.],\n",
              "        [ 22.,  37.],\n",
              "        [103., 119.],\n",
              "        [ 56.,  70.],\n",
              "        [ 81., 101.],\n",
              "        [119., 133.],\n",
              "        [ 22.,  37.],\n",
              "        [103., 119.]])"
            ]
          },
          "metadata": {
            "tags": []
          },
          "execution_count": 41
        }
      ]
    },
    {
      "cell_type": "markdown",
      "metadata": {
        "id": "OuffSkr0XbYM",
        "colab_type": "text"
      },
      "source": [
        "Indeed, the predictions are quite close to our targets, and now we have a fairly good model to predict crop yields for apples and oranges by looking at the average temperature, rainfall and humidity in a region."
      ]
    },
    {
      "cell_type": "markdown",
      "metadata": {
        "id": "2K9bDuPfXbYN",
        "colab_type": "text"
      },
      "source": [
        "## Commit and upload the notebook\n",
        "\n",
        "As a final step, we can save and commit our work using the jovian library."
      ]
    },
    {
      "cell_type": "code",
      "metadata": {
        "id": "Ot2gkEKDXbYN",
        "colab_type": "code",
        "colab": {},
        "outputId": "c8213a69-b1b7-4db3-b9cc-a50994712290"
      },
      "source": [
        "pip install jovian --upgrade -q"
      ],
      "execution_count": 0,
      "outputs": [
        {
          "output_type": "stream",
          "text": [
            "Note: you may need to restart the kernel to use updated packages.\n"
          ],
          "name": "stdout"
        }
      ]
    },
    {
      "cell_type": "code",
      "metadata": {
        "id": "dyUF3Kj3XbYP",
        "colab_type": "code",
        "colab": {},
        "outputId": "b8e76aa3-edcb-4760-96a6-896f5c8e4d36"
      },
      "source": [
        "import jovian"
      ],
      "execution_count": 0,
      "outputs": [
        {
          "output_type": "display_data",
          "data": {
            "application/javascript": [
              "if (window.IPython && IPython.notebook.kernel) IPython.notebook.kernel.execute('jovian.utils.jupyter.get_notebook_name_saved = lambda: \"' + IPython.notebook.notebook_name + '\"')"
            ],
            "text/plain": [
              "<IPython.core.display.Javascript object>"
            ]
          },
          "metadata": {
            "tags": []
          }
        }
      ]
    },
    {
      "cell_type": "code",
      "metadata": {
        "id": "yliiaqCAXbYR",
        "colab_type": "code",
        "colab": {},
        "outputId": "39d60fb8-e3cd-4333-df5c-6789b9d1c893"
      },
      "source": [
        "jovian.commit()"
      ],
      "execution_count": 0,
      "outputs": [
        {
          "output_type": "stream",
          "text": [
            "[jovian] Saving notebook..\n"
          ],
          "name": "stdout"
        },
        {
          "output_type": "display_data",
          "data": {
            "application/javascript": [
              "window.require && require([\"base/js/namespace\"],function(Jupyter){Jupyter.notebook.save_checkpoint()})"
            ],
            "text/plain": [
              "<IPython.core.display.Javascript object>"
            ]
          },
          "metadata": {
            "tags": []
          }
        }
      ]
    },
    {
      "cell_type": "markdown",
      "metadata": {
        "id": "Uiy3pGKUXbYT",
        "colab_type": "text"
      },
      "source": [
        "Jovian uploads the notebook to https://jvn.io, captures the Python environment and creates a sharable link for the notebook. You can use this link to share your work and let anyone reproduce it easily with the jovian clone command. Jovian also includes a powerful commenting interface, so you (and others) can discuss & comment on specific parts of your notebook:\n",
        "\n",
        "![jovian-commenting](https://cdn-images-1.medium.com/max/1600/1*b4snnr_5Ve5Nyq60iDtuuw.png)"
      ]
    },
    {
      "cell_type": "markdown",
      "metadata": {
        "id": "J92FGW_3XbYW",
        "colab_type": "text"
      },
      "source": [
        "## Further Reading\n",
        "\n",
        "We've covered a lot of ground this this tutorial, including *linear regression* and the *gradient descent* optimization algorithm. Here are a few resources if you'd like to dig deeper into these topics:\n",
        "\n",
        "* For a more detailed explanation of derivates and gradient descent, see [these notes from a Udacity course](https://storage.googleapis.com/supplemental_media/udacityu/315142919/Gradient%20Descent.pdf). \n",
        "\n",
        "* For an animated visualization of how linear regression works, [see this post](https://hackernoon.com/visualizing-linear-regression-with-pytorch-9261f49edb09).\n",
        "\n",
        "* For a more mathematical treatment of matrix calculus, linear regression and gradient descent, you should check out [Andrew Ng's excellent course notes](https://github.com/Cleo-Stanford-CS/CS229_Notes/blob/master/lectures/cs229-notes1.pdf) from CS229 at Stanford University.\n",
        "\n",
        "* To practice and test your skills, you can participate in the [Boston Housing Price Prediction](https://www.kaggle.com/c/boston-housing) competition on Kaggle, a website that hosts data science competitions."
      ]
    },
    {
      "cell_type": "markdown",
      "metadata": {
        "id": "zId0wvNGXbYY",
        "colab_type": "text"
      },
      "source": [
        "With this, we complete our discussion of linear regression in PyTorch, and we’re ready to move on to the next topic: *Logistic regression*."
      ]
    },
    {
      "cell_type": "code",
      "metadata": {
        "id": "8q-CSSbGXbYY",
        "colab_type": "code",
        "colab": {}
      },
      "source": [
        ""
      ],
      "execution_count": 0,
      "outputs": []
    }
  ]
}